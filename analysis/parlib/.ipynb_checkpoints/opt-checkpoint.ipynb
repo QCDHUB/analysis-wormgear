{
 "cells": [
  {
   "cell_type": "code",
   "execution_count": 1,
   "metadata": {},
   "outputs": [
    {
     "ename": "ModuleNotFoundError",
     "evalue": "No module named 'keras'",
     "output_type": "error",
     "traceback": [
      "\u001b[0;31m---------------------------------------------------------------------------\u001b[0m",
      "\u001b[0;31mModuleNotFoundError\u001b[0m                       Traceback (most recent call last)",
      "\u001b[0;32m<ipython-input-1-917ebc1dda03>\u001b[0m in \u001b[0;36m<module>\u001b[0;34m\u001b[0m\n\u001b[1;32m      1\u001b[0m \u001b[0;32mfrom\u001b[0m \u001b[0m__future__\u001b[0m \u001b[0;32mimport\u001b[0m \u001b[0mprint_function\u001b[0m\u001b[0;34m,\u001b[0m \u001b[0mdivision\u001b[0m\u001b[0;34m\u001b[0m\u001b[0;34m\u001b[0m\u001b[0m\n\u001b[1;32m      2\u001b[0m \u001b[0;34m\u001b[0m\u001b[0m\n\u001b[0;32m----> 3\u001b[0;31m \u001b[0;32mfrom\u001b[0m \u001b[0mkeras\u001b[0m\u001b[0;34m.\u001b[0m\u001b[0mdatasets\u001b[0m \u001b[0;32mimport\u001b[0m \u001b[0mmnist\u001b[0m\u001b[0;34m\u001b[0m\u001b[0;34m\u001b[0m\u001b[0m\n\u001b[0m\u001b[1;32m      4\u001b[0m \u001b[0;32mfrom\u001b[0m \u001b[0mkeras\u001b[0m\u001b[0;34m.\u001b[0m\u001b[0mlayers\u001b[0m \u001b[0;32mimport\u001b[0m \u001b[0mInput\u001b[0m\u001b[0;34m,\u001b[0m \u001b[0mDense\u001b[0m\u001b[0;34m,\u001b[0m \u001b[0mReshape\u001b[0m\u001b[0;34m,\u001b[0m \u001b[0mFlatten\u001b[0m\u001b[0;34m,\u001b[0m \u001b[0mDropout\u001b[0m\u001b[0;34m,\u001b[0m \u001b[0mLambda\u001b[0m\u001b[0;34m,\u001b[0m \u001b[0mconcatenate\u001b[0m\u001b[0;34m\u001b[0m\u001b[0;34m\u001b[0m\u001b[0m\n\u001b[1;32m      5\u001b[0m \u001b[0;32mfrom\u001b[0m \u001b[0mkeras\u001b[0m\u001b[0;34m.\u001b[0m\u001b[0mlayers\u001b[0m \u001b[0;32mimport\u001b[0m \u001b[0mBatchNormalization\u001b[0m\u001b[0;34m,\u001b[0m \u001b[0mActivation\u001b[0m\u001b[0;34m,\u001b[0m \u001b[0mZeroPadding2D\u001b[0m\u001b[0;34m\u001b[0m\u001b[0;34m\u001b[0m\u001b[0m\n",
      "\u001b[0;31mModuleNotFoundError\u001b[0m: No module named 'keras'"
     ]
    }
   ],
   "source": [
    "from __future__ import print_function, division\n",
    "\n",
    "from keras.datasets import mnist\n",
    "from keras.layers import Input, Dense, Reshape, Flatten, Dropout, Lambda, concatenate\n",
    "from keras.layers import BatchNormalization, Activation, ZeroPadding2D\n",
    "from keras.layers.advanced_activations import LeakyReLU\n",
    "from keras.layers.convolutional import UpSampling2D, Conv2D\n",
    "from keras.models import Sequential, Model\n",
    "#from keras.optimizers import Adam\n",
    "from tensorflow.keras.optimizers import Adam \n",
    "from matplotlib.legend_handler import HandlerLine2D\n",
    "from matplotlib.colors import LogNorm\n",
    "import pylab as py\n",
    "from keras import backend as K\n",
    "import tensorflow as tf\n",
    "\n",
    "import matplotlib\n",
    "matplotlib.rcParams['text.latex.preamble']=[r\"\\usepackage{amsmath}\"]\n",
    "matplotlib.rc('text',usetex=True)\n",
    "from matplotlib.legend_handler import HandlerLine2D\n",
    "from matplotlib.colors import LogNorm\n",
    "import pylab as py\n",
    "\n",
    "import sys\n",
    "\n",
    "import numpy as np\n",
    "import os\n",
    "os.environ[\"CUDA_VISIBLE_DEVICES\"]=\"1\""
   ]
  },
  {
   "cell_type": "code",
   "execution_count": null,
   "metadata": {},
   "outputs": [],
   "source": [
    "#--choose working directory to generate samples\n",
    "wdir = 'simul'\n",
    "\n",
    "#--choose number of samples\n",
    "N = 100\n",
    "\n",
    "print('Generating new priors for %s'%wdir)\n",
    "\n",
    "load_config('%s/input.py'%wdir)\n",
    "istep=core.get_istep()\n",
    "\n",
    "cluster,colors,nc,cluster_order = classifier.get_clusters(wdir,istep,kc) \n",
    "best_cluster=cluster_order[0]\n",
    "  \n",
    "#--get data\n",
    "replicas=core.get_replicas(wdir)\n",
    "step=conf['steps'][istep]\n",
    "samples=[]\n",
    "for i in range(len(replicas)):\n",
    "\n",
    "    if cluster[i]!=best_cluster: continue\n",
    "    replica=replicas[i]\n",
    "    order=replica['order'][istep]\n",
    "    params=replica['params'][istep]\n",
    "    samples.append(params)\n",
    "\n",
    "samples=np.array(samples)\n",
    "\n",
    "#--normalize samples\n",
    "samples_mean = np.mean(samples, axis = 0)\n",
    "samples_std  = np.std(samples, axis = 0)\n",
    "norm_samples = (samples - samples_mean)/samples_std"
   ]
  },
  {
   "cell_type": "code",
   "execution_count": 11,
   "metadata": {},
   "outputs": [
    {
     "data": {
      "text/plain": [
       "(145, 199)"
      ]
     },
     "execution_count": 11,
     "metadata": {},
     "output_type": "execute_result"
    }
   ],
   "source": [
    "norm_samples.shape"
   ]
  },
  {
   "cell_type": "code",
   "execution_count": 26,
   "metadata": {},
   "outputs": [],
   "source": [
    "class LSGAN():\n",
    "    def __init__(self):\n",
    "        self.img_shape = (norm_samples.shape[1],)\n",
    "        self.latent_dim = 100\n",
    "\n",
    "        optimizer = Adam(0.000001, 0.5)\n",
    "\n",
    "        # Build and compile the discriminator\n",
    "        self.discriminator = self.build_discriminator()\n",
    "        self.discriminator.compile(loss='mse',\n",
    "            optimizer=optimizer,\n",
    "            metrics=['accuracy'])\n",
    "\n",
    "        # Build the generator\n",
    "        self.generator = self.build_generator()\n",
    "\n",
    "        # The generator takes noise as input and generated imgs\n",
    "        z = Input(shape=(self.latent_dim,))\n",
    "        img = self.generator(z)\n",
    "\n",
    "        # For the combined model we will only train the generator\n",
    "        self.discriminator.trainable = False\n",
    "\n",
    "        # The valid takes generated images as input and determines validity\n",
    "        valid = self.discriminator(img)\n",
    "\n",
    "        # The combined model  (stacked generator and discriminator)\n",
    "        # Trains generator to fool discriminator\n",
    "        self.combined = Model(z, valid)\n",
    "        # (!!!) Optimize w.r.t. MSE loss instead of crossentropy\n",
    "        self.combined.compile(loss='mse', optimizer=optimizer)\n",
    "              \n",
    "    def build_generator(self):\n",
    "        visible = Input(shape=(100,))\n",
    "        hidden1 = Dense(256,  input_dim=self.latent_dim)(visible)\n",
    "        LR = LeakyReLU(alpha=0.2)(hidden1)\n",
    "        LR = BatchNormalization(momentum=0.8)(LR)\n",
    "        hidden2 = Dense(512)(LR)\n",
    "        LR = LeakyReLU(alpha=0.2)(hidden2)\n",
    "        LR = BatchNormalization(momentum=0.8)(LR)\n",
    "        hidden3 = Dense(1024)(LR)\n",
    "        LR = LeakyReLU(alpha=0.2)(hidden3)\n",
    "        LR = BatchNormalization(momentum=0.8)(LR)\n",
    "        output = Dense(norm_samples.shape[1])(LR)\n",
    "        #features = Lambda(self.feature_mul)(output)\n",
    "        #outputmerge = concatenate([output, features])\n",
    "        #generator = Model(inputs=visible, outputs=[outputmerge])\n",
    "        generator = Model(inputs=visible, outputs=[output])\n",
    "        generator.summary()\n",
    "        img = generator(visible)\n",
    "        return Model(visible, img)\n",
    "\n",
    "\n",
    "    def build_discriminator(self):\n",
    "\n",
    "        model = Sequential()\n",
    "\n",
    "        model.add(Dense(512, input_shape=self.img_shape))\n",
    "        model.add(LeakyReLU(alpha=0.2))\n",
    "        # after the model converges I reduce the drop rate to 0.001\n",
    "        model.add(Dropout(0.001))\n",
    "        model.add(Dense(256))\n",
    "        model.add(LeakyReLU(alpha=0.2))\n",
    "        model.add(Dropout(0.001))\n",
    "        # (!!!) No softmax\n",
    "        model.add(Dense(1))\n",
    "        model.summary()\n",
    "\n",
    "        img = Input(shape=self.img_shape)\n",
    "        validity = model(img)\n",
    "\n",
    "        return Model(img, validity)\n",
    "\n",
    "    def train(self, epochs, batch_size=128, sample_interval=50):\n",
    "                  \n",
    "        X_train = norm_samples\n",
    "        print(X_train.shape)\n",
    "\n",
    "        valid = np.ones((batch_size, 1))\n",
    "        fake = np.zeros((batch_size, 1))\n",
    "\n",
    "#         self.generator.load_weights('ls_generator.h5')\n",
    "#         self.discriminator.load_weights('ls_discriminator.h5')\n",
    "        \n",
    "        dloss=[]\n",
    "        gloss=[]\n",
    "        for epoch in range(epochs):\n",
    "\n",
    "            # ---------------------\n",
    "            #  Train Discriminator\n",
    "            # ---------------------\n",
    "\n",
    "            # Select a random batch of images\n",
    "            idx = np.random.randint(0, X_train.shape[0], batch_size)\n",
    "            imgs = X_train[idx]\n",
    "\n",
    "            # Sample noise as generator input\n",
    "            noise = np.random.normal(0, 1, (batch_size, self.latent_dim))\n",
    "\n",
    "            # Generate a batch of new images\n",
    "            gen_imgs = self.generator.predict(noise)\n",
    "\n",
    "            # Train the discriminator\n",
    "            d_loss_real = self.discriminator.train_on_batch(imgs, valid)\n",
    "            d_loss_fake = self.discriminator.train_on_batch(gen_imgs, fake)\n",
    "            d_loss = 0.5 * np.add(d_loss_real, d_loss_fake)\n",
    "\n",
    "\n",
    "            # ---------------------\n",
    "            #  Train Generator\n",
    "            # ---------------------\n",
    "\n",
    "            g_loss = self.combined.train_on_batch(noise, valid)\n",
    "\n",
    "            # Plot the progress\n",
    "            #print (\"%d [D loss: %f, acc.: %.2f%%] [G loss: %f]\" % (epoch, d_loss[0], 100*d_loss[1], g_loss))\n",
    "            #loss_gen.append(g_loss[0])\n",
    "            #loss_dis.append(d_loss[0])\n",
    "            \n",
    "\n",
    "            # If at save interval => save generated image samples\n",
    "            dloss=np.append(dloss,d_loss[0])\n",
    "            gloss=np.append(gloss,g_loss)\n",
    "            if epoch % sample_interval == 0:\n",
    "                print (\"%d [D loss: %f, acc.: %.2f%%] [G loss: %f]\" % (epoch, d_loss[0], 100*d_loss[1], g_loss))\n",
    "                self.generator.save_weights('generator_weights.h5')\n",
    "                self.discriminator.save_weights('discrimiantor_weights.h5')\n",
    "                \n",
    "                \n",
    "\n"
   ]
  },
  {
   "cell_type": "code",
   "execution_count": 27,
   "metadata": {},
   "outputs": [
    {
     "name": "stdout",
     "output_type": "stream",
     "text": [
      "Model: \"sequential_4\"\n",
      "_________________________________________________________________\n",
      "Layer (type)                 Output Shape              Param #   \n",
      "=================================================================\n",
      "dense_28 (Dense)             (None, 512)               102400    \n",
      "_________________________________________________________________\n",
      "leaky_re_lu_20 (LeakyReLU)   (None, 512)               0         \n",
      "_________________________________________________________________\n",
      "dropout_8 (Dropout)          (None, 512)               0         \n",
      "_________________________________________________________________\n",
      "dense_29 (Dense)             (None, 256)               131328    \n",
      "_________________________________________________________________\n",
      "leaky_re_lu_21 (LeakyReLU)   (None, 256)               0         \n",
      "_________________________________________________________________\n",
      "dropout_9 (Dropout)          (None, 256)               0         \n",
      "_________________________________________________________________\n",
      "dense_30 (Dense)             (None, 1)                 257       \n",
      "=================================================================\n",
      "Total params: 233,985\n",
      "Trainable params: 233,985\n",
      "Non-trainable params: 0\n",
      "_________________________________________________________________\n",
      "Model: \"model_14\"\n",
      "_________________________________________________________________\n",
      "Layer (type)                 Output Shape              Param #   \n",
      "=================================================================\n",
      "input_13 (InputLayer)        [(None, 100)]             0         \n",
      "_________________________________________________________________\n",
      "dense_31 (Dense)             (None, 256)               25856     \n",
      "_________________________________________________________________\n",
      "leaky_re_lu_22 (LeakyReLU)   (None, 256)               0         \n",
      "_________________________________________________________________\n",
      "batch_normalization_12 (Batc (None, 256)               1024      \n",
      "_________________________________________________________________\n",
      "dense_32 (Dense)             (None, 512)               131584    \n",
      "_________________________________________________________________\n",
      "leaky_re_lu_23 (LeakyReLU)   (None, 512)               0         \n",
      "_________________________________________________________________\n",
      "batch_normalization_13 (Batc (None, 512)               2048      \n",
      "_________________________________________________________________\n",
      "dense_33 (Dense)             (None, 1024)              525312    \n",
      "_________________________________________________________________\n",
      "leaky_re_lu_24 (LeakyReLU)   (None, 1024)              0         \n",
      "_________________________________________________________________\n",
      "batch_normalization_14 (Batc (None, 1024)              4096      \n",
      "_________________________________________________________________\n",
      "dense_34 (Dense)             (None, 199)               203975    \n",
      "=================================================================\n",
      "Total params: 893,895\n",
      "Trainable params: 890,311\n",
      "Non-trainable params: 3,584\n",
      "_________________________________________________________________\n"
     ]
    }
   ],
   "source": [
    "gan = LSGAN()"
   ]
  },
  {
   "cell_type": "code",
   "execution_count": 29,
   "metadata": {},
   "outputs": [
    {
     "name": "stdout",
     "output_type": "stream",
     "text": [
      "(145, 199)\n",
      "0 [D loss: 0.662631, acc.: 50.00%] [G loss: 0.967682]\n",
      "10 [D loss: 1.015861, acc.: 35.00%] [G loss: 0.765207]\n",
      "20 [D loss: 0.909829, acc.: 40.00%] [G loss: 1.089484]\n",
      "30 [D loss: 0.904638, acc.: 45.00%] [G loss: 0.935809]\n",
      "40 [D loss: 0.326910, acc.: 65.00%] [G loss: 1.081763]\n",
      "50 [D loss: 1.015040, acc.: 25.00%] [G loss: 1.319420]\n",
      "60 [D loss: 0.743823, acc.: 40.00%] [G loss: 1.149999]\n",
      "70 [D loss: 0.869530, acc.: 40.00%] [G loss: 1.011420]\n",
      "80 [D loss: 1.005724, acc.: 35.00%] [G loss: 0.745978]\n",
      "90 [D loss: 0.639236, acc.: 50.00%] [G loss: 1.083322]\n",
      "100 [D loss: 0.850170, acc.: 50.00%] [G loss: 1.020738]\n",
      "110 [D loss: 0.649844, acc.: 40.00%] [G loss: 0.653811]\n",
      "120 [D loss: 0.534480, acc.: 60.00%] [G loss: 1.037205]\n",
      "130 [D loss: 0.750538, acc.: 45.00%] [G loss: 0.919365]\n",
      "140 [D loss: 0.785519, acc.: 50.00%] [G loss: 1.229224]\n",
      "150 [D loss: 0.497212, acc.: 45.00%] [G loss: 1.000675]\n",
      "160 [D loss: 0.824176, acc.: 35.00%] [G loss: 0.546715]\n",
      "170 [D loss: 0.427022, acc.: 45.00%] [G loss: 1.001580]\n",
      "180 [D loss: 0.881515, acc.: 30.00%] [G loss: 0.859940]\n",
      "190 [D loss: 0.841179, acc.: 30.00%] [G loss: 0.520577]\n",
      "200 [D loss: 0.931606, acc.: 50.00%] [G loss: 0.738480]\n",
      "210 [D loss: 0.727426, acc.: 50.00%] [G loss: 1.109899]\n",
      "220 [D loss: 0.864274, acc.: 45.00%] [G loss: 0.594769]\n",
      "230 [D loss: 0.606973, acc.: 55.00%] [G loss: 0.488643]\n",
      "240 [D loss: 1.194743, acc.: 15.00%] [G loss: 0.675544]\n",
      "250 [D loss: 0.578190, acc.: 50.00%] [G loss: 0.814674]\n",
      "260 [D loss: 0.911553, acc.: 45.00%] [G loss: 0.813876]\n",
      "270 [D loss: 0.686388, acc.: 40.00%] [G loss: 0.641872]\n",
      "280 [D loss: 0.609185, acc.: 55.00%] [G loss: 0.634602]\n",
      "290 [D loss: 0.817072, acc.: 40.00%] [G loss: 0.761890]\n",
      "300 [D loss: 0.470124, acc.: 55.00%] [G loss: 1.010229]\n",
      "310 [D loss: 0.470540, acc.: 55.00%] [G loss: 0.737266]\n",
      "320 [D loss: 0.630447, acc.: 50.00%] [G loss: 0.634853]\n",
      "330 [D loss: 0.828367, acc.: 45.00%] [G loss: 0.982485]\n",
      "340 [D loss: 0.628633, acc.: 50.00%] [G loss: 0.890766]\n",
      "350 [D loss: 0.543311, acc.: 50.00%] [G loss: 0.540731]\n",
      "360 [D loss: 0.333577, acc.: 65.00%] [G loss: 0.635991]\n",
      "370 [D loss: 0.503445, acc.: 50.00%] [G loss: 0.531353]\n",
      "380 [D loss: 0.605055, acc.: 40.00%] [G loss: 0.492305]\n",
      "390 [D loss: 0.810330, acc.: 40.00%] [G loss: 0.827856]\n",
      "400 [D loss: 0.580911, acc.: 35.00%] [G loss: 0.380765]\n",
      "410 [D loss: 0.748849, acc.: 45.00%] [G loss: 0.654246]\n",
      "420 [D loss: 0.464663, acc.: 60.00%] [G loss: 0.698378]\n",
      "430 [D loss: 0.823041, acc.: 35.00%] [G loss: 0.650217]\n",
      "440 [D loss: 0.635449, acc.: 40.00%] [G loss: 0.605760]\n",
      "450 [D loss: 0.529903, acc.: 45.00%] [G loss: 0.365431]\n",
      "460 [D loss: 0.450355, acc.: 50.00%] [G loss: 0.670966]\n",
      "470 [D loss: 0.408856, acc.: 50.00%] [G loss: 0.584951]\n",
      "480 [D loss: 1.208424, acc.: 20.00%] [G loss: 0.248212]\n",
      "490 [D loss: 0.465809, acc.: 30.00%] [G loss: 0.612609]\n",
      "500 [D loss: 0.571552, acc.: 55.00%] [G loss: 0.725242]\n",
      "510 [D loss: 0.664848, acc.: 40.00%] [G loss: 0.482091]\n",
      "520 [D loss: 0.693099, acc.: 60.00%] [G loss: 0.745168]\n",
      "530 [D loss: 0.429169, acc.: 55.00%] [G loss: 0.365859]\n",
      "540 [D loss: 0.476223, acc.: 40.00%] [G loss: 0.785603]\n",
      "550 [D loss: 0.722293, acc.: 25.00%] [G loss: 0.513535]\n",
      "560 [D loss: 0.931713, acc.: 35.00%] [G loss: 0.416802]\n",
      "570 [D loss: 0.793319, acc.: 40.00%] [G loss: 0.486112]\n",
      "580 [D loss: 0.532886, acc.: 45.00%] [G loss: 0.933596]\n",
      "590 [D loss: 0.729350, acc.: 20.00%] [G loss: 0.401594]\n",
      "600 [D loss: 0.485866, acc.: 55.00%] [G loss: 0.693342]\n",
      "610 [D loss: 0.843399, acc.: 30.00%] [G loss: 0.437229]\n",
      "620 [D loss: 0.871227, acc.: 55.00%] [G loss: 0.452284]\n",
      "630 [D loss: 0.400858, acc.: 65.00%] [G loss: 0.860161]\n",
      "640 [D loss: 0.502832, acc.: 50.00%] [G loss: 0.575367]\n",
      "650 [D loss: 1.021430, acc.: 30.00%] [G loss: 0.596638]\n",
      "660 [D loss: 0.339123, acc.: 60.00%] [G loss: 0.338216]\n",
      "670 [D loss: 0.588870, acc.: 35.00%] [G loss: 0.613219]\n",
      "680 [D loss: 0.639522, acc.: 30.00%] [G loss: 0.553990]\n",
      "690 [D loss: 1.073531, acc.: 35.00%] [G loss: 0.328117]\n",
      "700 [D loss: 0.513094, acc.: 60.00%] [G loss: 0.691068]\n",
      "710 [D loss: 0.576789, acc.: 45.00%] [G loss: 1.081239]\n",
      "720 [D loss: 0.565078, acc.: 40.00%] [G loss: 0.531145]\n",
      "730 [D loss: 0.702657, acc.: 55.00%] [G loss: 0.591387]\n",
      "740 [D loss: 0.365197, acc.: 55.00%] [G loss: 0.566787]\n",
      "750 [D loss: 0.756336, acc.: 40.00%] [G loss: 0.369781]\n",
      "760 [D loss: 0.227551, acc.: 70.00%] [G loss: 0.647395]\n",
      "770 [D loss: 0.248641, acc.: 70.00%] [G loss: 0.668131]\n",
      "780 [D loss: 0.656929, acc.: 40.00%] [G loss: 0.524584]\n",
      "790 [D loss: 0.411825, acc.: 50.00%] [G loss: 0.671062]\n",
      "800 [D loss: 0.621513, acc.: 55.00%] [G loss: 0.510481]\n",
      "810 [D loss: 0.490202, acc.: 35.00%] [G loss: 0.586151]\n",
      "820 [D loss: 0.594878, acc.: 35.00%] [G loss: 0.631314]\n",
      "830 [D loss: 0.423701, acc.: 55.00%] [G loss: 0.700282]\n",
      "840 [D loss: 0.721447, acc.: 15.00%] [G loss: 0.459369]\n",
      "850 [D loss: 0.644349, acc.: 50.00%] [G loss: 0.569266]\n",
      "860 [D loss: 0.737803, acc.: 50.00%] [G loss: 0.614845]\n",
      "870 [D loss: 0.534367, acc.: 45.00%] [G loss: 0.839204]\n",
      "880 [D loss: 0.487125, acc.: 30.00%] [G loss: 0.766668]\n",
      "890 [D loss: 0.432677, acc.: 45.00%] [G loss: 0.537129]\n",
      "900 [D loss: 0.400592, acc.: 60.00%] [G loss: 0.756779]\n",
      "910 [D loss: 0.742596, acc.: 40.00%] [G loss: 0.474603]\n",
      "920 [D loss: 0.466169, acc.: 50.00%] [G loss: 0.676834]\n",
      "930 [D loss: 0.533723, acc.: 50.00%] [G loss: 0.520876]\n",
      "940 [D loss: 0.468580, acc.: 35.00%] [G loss: 0.449960]\n",
      "950 [D loss: 0.855908, acc.: 45.00%] [G loss: 0.683608]\n",
      "960 [D loss: 0.585081, acc.: 40.00%] [G loss: 0.270131]\n",
      "970 [D loss: 0.572728, acc.: 45.00%] [G loss: 0.428218]\n",
      "980 [D loss: 0.502037, acc.: 70.00%] [G loss: 0.286467]\n",
      "990 [D loss: 0.816840, acc.: 35.00%] [G loss: 0.288097]\n"
     ]
    }
   ],
   "source": [
    "gan.train(epochs=1000, batch_size=10, sample_interval=10)"
   ]
  },
  {
   "cell_type": "code",
   "execution_count": null,
   "metadata": {},
   "outputs": [],
   "source": []
  },
  {
   "cell_type": "markdown",
   "metadata": {},
   "source": [
    "## results"
   ]
  },
  {
   "cell_type": "code",
   "execution_count": 47,
   "metadata": {},
   "outputs": [],
   "source": [
    "gan.generator.load_weights('generator_weights.h5')"
   ]
  },
  {
   "cell_type": "code",
   "execution_count": 66,
   "metadata": {},
   "outputs": [],
   "source": [
    "noise = np.random.normal(0, 1, (N, 100))\n",
    "results = gan.generator.predict(noise, batch_size=10)\n",
    "#results = results*samples_std+samples_mean"
   ]
  },
  {
   "cell_type": "code",
   "execution_count": 67,
   "metadata": {},
   "outputs": [
    {
     "data": {
      "image/png": "[encoded data removed]",
      "text/plain": [
       "<Figure size 504x432 with 1 Axes>"
      ]
     },
     "metadata": {
      "needs_background": "light"
     },
     "output_type": "display_data"
    }
   ],
   "source": [
    "nrows,ncols=1,1\n",
    "fig = py.figure(figsize=(ncols*7,nrows*6))\n",
    "ax=py.subplot(nrows,ncols,1)\n",
    "ax.hist(norm_samples[:,0],histtype='step');\n",
    "ax.hist(results[:,0],histtype='step');\n"
   ]
  },
  {
   "cell_type": "code",
   "execution_count": 63,
   "metadata": {},
   "outputs": [
    {
     "data": {
      "text/plain": [
       "<matplotlib.lines.Line2D at 0x7ff1dfd82ee0>"
      ]
     },
     "execution_count": 63,
     "metadata": {},
     "output_type": "execute_result"
    },
    {
     "data": {
      "image/png": "[encoded data removed]",
      "text/plain": [
       "<Figure size 504x432 with 1 Axes>"
      ]
     },
     "metadata": {
      "needs_background": "light"
     },
     "output_type": "display_data"
    }
   ],
   "source": [
    "nrows,ncols=1,1\n",
    "fig = py.figure(figsize=(ncols*7,nrows*6))\n",
    "IDX=range(samples.shape[1])\n",
    "Y1,dY1=[],[]\n",
    "Y2,dY2=[],[]\n",
    "for idx in IDX:\n",
    "    Y1.append(np.mean(norm_samples[:,idx]))\n",
    "    dY1.append(np.std(norm_samples[:,idx]))\n",
    "    Y2.append(np.mean(results[:,idx]))\n",
    "    dY2.append(np.std(results[:,idx]))\n",
    "ax=py.subplot(nrows,ncols,1)\n",
    "ax.errorbar(IDX,Y2,dY2,fmt='r.');    \n",
    "ax.axhline( 1,color='k',ls=':')    \n",
    "ax.axhline(-1,color='k',ls=':')    "
   ]
  },
  {
   "cell_type": "code",
   "execution_count": null,
   "metadata": {},
   "outputs": [],
   "source": []
  },
  {
   "cell_type": "code",
   "execution_count": 55,
   "metadata": {},
   "outputs": [],
   "source": [
    "optimized_priors=results*samples_std+samples_mean\n",
    "np.save('gan_priors.npy',optimized_priors)"
   ]
  },
  {
   "cell_type": "code",
   "execution_count": 56,
   "metadata": {},
   "outputs": [
    {
     "data": {
      "text/plain": [
       "'/w/jam-sciwork18/nsato/codes/pargan'"
      ]
     },
     "execution_count": 56,
     "metadata": {},
     "output_type": "execute_result"
    }
   ],
   "source": [
    "#--save samples\n",
    "replica=replicas[0] #--template replica\n",
    "for i in range(N):\n",
    "    replica['params'][istep]=optimized_priors[i]\n",
    "    fname='%s/msr-opt-priors/%s.msr'%(wdir,id_generator(12))\n",
    "    save(replica,fname)\n",
    "\n",
    "print \n",
    "print('Saving new priors to %s/msr-opt-priors'%wdir)"
   ]
  },
  {
   "cell_type": "code",
   "execution_count": null,
   "metadata": {},
   "outputs": [],
   "source": []
  },
  {
   "cell_type": "code",
   "execution_count": null,
   "metadata": {},
   "outputs": [],
   "source": []
  }
 ],
 "metadata": {
  "kernelspec": {
   "display_name": "Python 3",
   "language": "python",
   "name": "python3"
  },
  "language_info": {
   "codemirror_mode": {
    "name": "ipython",
    "version": 3
   },
   "file_extension": ".py",
   "mimetype": "text/x-python",
   "name": "python",
   "nbconvert_exporter": "python",
   "pygments_lexer": "ipython3",
   "version": "3.7.3"
  }
 },
 "nbformat": 4,
 "nbformat_minor": 4
}
